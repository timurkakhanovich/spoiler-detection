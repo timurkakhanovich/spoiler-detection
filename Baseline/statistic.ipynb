{
 "cells": [
  {
   "cell_type": "code",
   "execution_count": 1,
   "metadata": {},
   "outputs": [],
   "source": [
    "import json\n",
    "import pandas as pd\n",
    "from pandas import json_normalize"
   ]
  },
  {
   "cell_type": "code",
   "execution_count": 2,
   "metadata": {},
   "outputs": [],
   "source": [
    "with open('../Data/authors.json', 'r', encoding='utf-8') as fin:\n",
    "    authors = json.loads(fin.read())"
   ]
  },
  {
   "cell_type": "code",
   "execution_count": 3,
   "metadata": {},
   "outputs": [],
   "source": [
    "with open('../Data/books.json', 'r', encoding='utf-8') as fin:\n",
    "    books = json.loads(fin.read())"
   ]
  },
  {
   "cell_type": "code",
   "execution_count": 4,
   "metadata": {},
   "outputs": [],
   "source": [
    "with open('../Data/responses.json', 'r', encoding='utf-8') as fin:\n",
    "    responses = json.loads(fin.read())"
   ]
  },
  {
   "cell_type": "code",
   "execution_count": 5,
   "metadata": {},
   "outputs": [],
   "source": [
    "authors_df = pd.DataFrame(authors, columns=['name', 'link'])"
   ]
  },
  {
   "cell_type": "code",
   "execution_count": 6,
   "metadata": {},
   "outputs": [],
   "source": [
    "books_df = pd.DataFrame(books, columns=['name', 'author', 'category', \n",
    "                                'link', 'avg_rating', 'responses_amount'])"
   ]
  },
  {
   "cell_type": "code",
   "execution_count": 7,
   "metadata": {},
   "outputs": [],
   "source": [
    "resp_df = json_normalize(responses, record_path=['responses'], \n",
    "                          meta=['name', 'author', 'annotation'])\n",
    "resp_df = resp_df.reindex(columns=['name', 'author', 'annotation', 'text', 'mark', 'hasSpoiler'])"
   ]
  },
  {
   "cell_type": "code",
   "execution_count": 8,
   "metadata": {},
   "outputs": [
    {
     "data": {
      "text/html": [
       "<div>\n",
       "<style scoped>\n",
       "    .dataframe tbody tr th:only-of-type {\n",
       "        vertical-align: middle;\n",
       "    }\n",
       "\n",
       "    .dataframe tbody tr th {\n",
       "        vertical-align: top;\n",
       "    }\n",
       "\n",
       "    .dataframe thead th {\n",
       "        text-align: right;\n",
       "    }\n",
       "</style>\n",
       "<table border=\"1\" class=\"dataframe\">\n",
       "  <thead>\n",
       "    <tr style=\"text-align: right;\">\n",
       "      <th></th>\n",
       "      <th>name</th>\n",
       "      <th>author</th>\n",
       "      <th>annotation</th>\n",
       "      <th>text</th>\n",
       "      <th>mark</th>\n",
       "      <th>hasSpoiler</th>\n",
       "    </tr>\n",
       "  </thead>\n",
       "  <tbody>\n",
       "    <tr>\n",
       "      <th>84371</th>\n",
       "      <td>Мёртвая линия. Оно начинается...</td>\n",
       "      <td>Джонатан и Саймон Уокер</td>\n",
       "      <td>Шли первые сутки из девяти, названных в Пророч...</td>\n",
       "      <td>Оно началось... Что именно? Русская пародия на...</td>\n",
       "      <td>3</td>\n",
       "      <td>1</td>\n",
       "    </tr>\n",
       "    <tr>\n",
       "      <th>84373</th>\n",
       "      <td>Мёртвая линия. Оно приближается…</td>\n",
       "      <td>Джонатан и Саймон Уокер</td>\n",
       "      <td>Когда времени на раздумья уже не осталось, при...</td>\n",
       "      <td>Вторая книга трилогии. В целом, достойное прод...</td>\n",
       "      <td>2</td>\n",
       "      <td>1</td>\n",
       "    </tr>\n",
       "    <tr>\n",
       "      <th>84375</th>\n",
       "      <td>Мёртвая линия. Оно приближается…</td>\n",
       "      <td>Джонатан и Саймон Уокер</td>\n",
       "      <td>Когда времени на раздумья уже не осталось, при...</td>\n",
       "      <td>Мне книга очень понравилась!!! Легко читается,...</td>\n",
       "      <td>1</td>\n",
       "      <td>1</td>\n",
       "    </tr>\n",
       "    <tr>\n",
       "      <th>84376</th>\n",
       "      <td>Мёртвая линия. Оно вершится</td>\n",
       "      <td>Джонатан и Саймон Уокер</td>\n",
       "      <td>Последние трое суток, отведённые Пророчеством ...</td>\n",
       "      <td>Хорошее завершение истории. Особенно порадовал...</td>\n",
       "      <td>4</td>\n",
       "      <td>1</td>\n",
       "    </tr>\n",
       "    <tr>\n",
       "      <th>84395</th>\n",
       "      <td>Кровавое заклятие, или Акация</td>\n",
       "      <td>Дэвид Энтони Дарем</td>\n",
       "      <td>Много веков назад империя Акация правила бесчи...</td>\n",
       "      <td>&lt;spoiler&gt;  Вот сейчас с удивлением осознал, ч...</td>\n",
       "      <td>1</td>\n",
       "      <td>1</td>\n",
       "    </tr>\n",
       "  </tbody>\n",
       "</table>\n",
       "</div>"
      ],
      "text/plain": [
       "                                   name                   author  \\\n",
       "84371  Мёртвая линия. Оно начинается...  Джонатан и Саймон Уокер   \n",
       "84373  Мёртвая линия. Оно приближается…  Джонатан и Саймон Уокер   \n",
       "84375  Мёртвая линия. Оно приближается…  Джонатан и Саймон Уокер   \n",
       "84376       Мёртвая линия. Оно вершится  Джонатан и Саймон Уокер   \n",
       "84395     Кровавое заклятие, или Акация       Дэвид Энтони Дарем   \n",
       "\n",
       "                                              annotation  \\\n",
       "84371  Шли первые сутки из девяти, названных в Пророч...   \n",
       "84373  Когда времени на раздумья уже не осталось, при...   \n",
       "84375  Когда времени на раздумья уже не осталось, при...   \n",
       "84376  Последние трое суток, отведённые Пророчеством ...   \n",
       "84395  Много веков назад империя Акация правила бесчи...   \n",
       "\n",
       "                                                    text  mark  hasSpoiler  \n",
       "84371  Оно началось... Что именно? Русская пародия на...     3           1  \n",
       "84373  Вторая книга трилогии. В целом, достойное прод...     2           1  \n",
       "84375  Мне книга очень понравилась!!! Легко читается,...     1           1  \n",
       "84376  Хорошее завершение истории. Особенно порадовал...     4           1  \n",
       "84395   <spoiler>  Вот сейчас с удивлением осознал, ч...     1           1  "
      ]
     },
     "execution_count": 8,
     "metadata": {},
     "output_type": "execute_result"
    }
   ],
   "source": [
    "resp_df.loc[resp_df.hasSpoiler == 1].tail()"
   ]
  },
  {
   "cell_type": "markdown",
   "metadata": {},
   "source": [
    "# Class ratio"
   ]
  },
  {
   "cell_type": "code",
   "execution_count": 11,
   "metadata": {},
   "outputs": [
    {
     "data": {
      "text/plain": [
       "0.06406246297481102"
      ]
     },
     "execution_count": 11,
     "metadata": {},
     "output_type": "execute_result"
    }
   ],
   "source": [
    "resp_df['hasSpoiler'].mean()"
   ]
  },
  {
   "cell_type": "markdown",
   "metadata": {},
   "source": [
    "# The length of spoiler/non-spoiler texts"
   ]
  },
  {
   "cell_type": "code",
   "execution_count": 24,
   "metadata": {},
   "outputs": [],
   "source": [
    "from nltk.tokenize import word_tokenize"
   ]
  },
  {
   "cell_type": "code",
   "execution_count": 10,
   "metadata": {},
   "outputs": [],
   "source": [
    "df = pd.read_csv('../Data/train_data.csv', lineterminator='\\n')"
   ]
  },
  {
   "cell_type": "code",
   "execution_count": 26,
   "metadata": {},
   "outputs": [
    {
     "data": {
      "text/plain": [
       "0        А жаль — могла получится вполне интересная и н...\n",
       "1        Должен сказать, что прочтение «Черновика» меня...\n",
       "2        «А внутре у ней неонка» (с.)   Когда-то, лет э...\n",
       "3        Эта книга никак не дотягивает до хорошей фанта...\n",
       "4        Вещь не вторичная, а даже третичная. Если твор...\n",
       "                               ...                        \n",
       "84397    Переосмысление сказок – это всегда интересно. ...\n",
       "84398    Занятный альтернативный взгляд на классическую...\n",
       "84399    Самый характерный пример убитого нашими книгои...\n",
       "84400    Мое самое любимое произведение. Читал, не отры...\n",
       "84401    Мой любимая трилогия! Читается легко и интерес...\n",
       "Name: text, Length: 84402, dtype: object"
      ]
     },
     "execution_count": 26,
     "metadata": {},
     "output_type": "execute_result"
    }
   ],
   "source": [
    "df['text']"
   ]
  },
  {
   "cell_type": "code",
   "execution_count": 35,
   "metadata": {},
   "outputs": [],
   "source": [
    "spoiler_df = df.loc[df['hasSpoiler'] == 1]\n",
    "non_spoiler_df = df.loc[df['hasSpoiler'] == 0]"
   ]
  },
  {
   "cell_type": "code",
   "execution_count": 36,
   "metadata": {},
   "outputs": [],
   "source": [
    "def text2tokens(text):\n",
    "    return [word for word in word_tokenize(text) if word.isalpha()]"
   ]
  },
  {
   "cell_type": "code",
   "execution_count": 37,
   "metadata": {},
   "outputs": [],
   "source": [
    "spoiler_tokens = spoiler_df['text'].apply(text2tokens)\n",
    "non_spoiler_tokens = non_spoiler_df['text'].apply(text2tokens)\n",
    "\n",
    "spoiler_texts_length = pd.Series([len(tok) - 1 for tok in spoiler_tokens])\n",
    "non_spoiler_texts_length = pd.Series([len(tok) for tok in non_spoiler_tokens])"
   ]
  },
  {
   "cell_type": "code",
   "execution_count": 38,
   "metadata": {},
   "outputs": [
    {
     "data": {
      "text/plain": [
       "count    5407.000000\n",
       "mean      254.865730\n",
       "std       231.645199\n",
       "min         5.000000\n",
       "25%       106.000000\n",
       "50%       191.000000\n",
       "75%       331.000000\n",
       "max      4932.000000\n",
       "dtype: float64"
      ]
     },
     "execution_count": 38,
     "metadata": {},
     "output_type": "execute_result"
    }
   ],
   "source": [
    "spoiler_texts_length.describe()"
   ]
  },
  {
   "cell_type": "code",
   "execution_count": 40,
   "metadata": {},
   "outputs": [
    {
     "data": {
      "text/plain": [
       "count    78995.000000\n",
       "mean       155.649611\n",
       "std        182.028087\n",
       "min          0.000000\n",
       "25%         46.000000\n",
       "50%         92.000000\n",
       "75%        196.000000\n",
       "max       4554.000000\n",
       "dtype: float64"
      ]
     },
     "execution_count": 40,
     "metadata": {},
     "output_type": "execute_result"
    }
   ],
   "source": [
    "non_spoiler_texts_length.describe()"
   ]
  },
  {
   "cell_type": "code",
   "execution_count": 41,
   "metadata": {},
   "outputs": [
    {
     "data": {
      "text/plain": [
       "92.0"
      ]
     },
     "execution_count": 41,
     "metadata": {},
     "output_type": "execute_result"
    }
   ],
   "source": [
    "non_spoiler_texts_length.median()"
   ]
  },
  {
   "cell_type": "markdown",
   "metadata": {
    "tags": []
   },
   "source": [
    "# Names detection"
   ]
  },
  {
   "cell_type": "code",
   "execution_count": 42,
   "metadata": {},
   "outputs": [],
   "source": [
    "from natasha import (\n",
    "    Segmenter,\n",
    "    MorphVocab,\n",
    "    \n",
    "    NewsEmbedding,\n",
    "    NewsMorphTagger,\n",
    "    NewsSyntaxParser,\n",
    "    NewsNERTagger,\n",
    "    \n",
    "    PER,\n",
    "    NamesExtractor,\n",
    "\n",
    "    Doc\n",
    ")"
   ]
  },
  {
   "cell_type": "code",
   "execution_count": 43,
   "metadata": {},
   "outputs": [],
   "source": [
    "segmenter = Segmenter()\n",
    "morph_vocab = MorphVocab()\n",
    "\n",
    "emb = NewsEmbedding()\n",
    "morph_tagger = NewsMorphTagger(emb)\n",
    "syntax_parser = NewsSyntaxParser(emb)\n",
    "ner_tagger = NewsNERTagger(emb)\n",
    "\n",
    "names_extractor = NamesExtractor(morph_vocab)"
   ]
  },
  {
   "cell_type": "code",
   "execution_count": 44,
   "metadata": {},
   "outputs": [],
   "source": [
    "def get_names_amount(text):\n",
    "    doc = Doc(text)\n",
    "\n",
    "    doc.segment(segmenter)\n",
    "    doc.tag_morph(morph_tagger)\n",
    "\n",
    "    for token in doc.tokens:\n",
    "        token.lemmatize(morph_vocab)\n",
    "\n",
    "    doc.parse_syntax(syntax_parser)\n",
    "    doc.tag_ner(ner_tagger)\n",
    "\n",
    "    for span in doc.spans:\n",
    "        span.normalize(morph_vocab)\n",
    "\n",
    "    for span in doc.spans:\n",
    "        if span.type == PER:\n",
    "            span.extract_fact(names_extractor)\n",
    "\n",
    "    lemmatized_text = ' '.join([_.lemma for _ in doc.tokens if _.rel != 'punct'])\n",
    "\n",
    "    return {\n",
    "        'lemmatized_text': lemmatized_text,\n",
    "        'names_amount': len([name.fact for name in doc.spans \n",
    "                if name.type == PER and name.fact is not None])\n",
    "    }"
   ]
  },
  {
   "cell_type": "code",
   "execution_count": 45,
   "metadata": {},
   "outputs": [],
   "source": [
    "from tqdm import tqdm"
   ]
  },
  {
   "cell_type": "code",
   "execution_count": null,
   "metadata": {},
   "outputs": [],
   "source": [
    "result = {'lemmatized_text': [], 'names_amount': []}\n",
    "\n",
    "resp_df.to_csv('train_data.csv', header=False)\n",
    "for text in tqdm(resp_df['text']):\n",
    "    res = get_names_amount(text)\n",
    "    \n",
    "    result['lemmatized_text'].append(res['lemmatized_text'])\n",
    "    result['names_amount'].append(res['names_amount'])"
   ]
  },
  {
   "cell_type": "code",
   "execution_count": 13,
   "metadata": {},
   "outputs": [],
   "source": [
    "resp_df['lemmatized_text'] = result['lemmatized_text']\n",
    "resp_df['names_amount'] = result['names_amount']"
   ]
  },
  {
   "cell_type": "code",
   "execution_count": 16,
   "metadata": {},
   "outputs": [],
   "source": [
    "resp_df.to_csv('train_data1.csv', index=False)"
   ]
  },
  {
   "cell_type": "code",
   "execution_count": 21,
   "metadata": {},
   "outputs": [],
   "source": [
    "df = pd.read_csv('train_data1.csv', lineterminator='\\n')"
   ]
  },
  {
   "cell_type": "code",
   "execution_count": null,
   "metadata": {},
   "outputs": [],
   "source": []
  }
 ],
 "metadata": {
  "interpreter": {
   "hash": "1bc6ff89ac4b0ac9652ed26bf3c5aac6644bc1ff71fd34bbe304cbefe9b51b13"
  },
  "kernelspec": {
   "display_name": "Python 3.8.5 64-bit ('base': conda)",
   "name": "python3"
  },
  "language_info": {
   "codemirror_mode": {
    "name": "ipython",
    "version": 3
   },
   "file_extension": ".py",
   "mimetype": "text/x-python",
   "name": "python",
   "nbconvert_exporter": "python",
   "pygments_lexer": "ipython3",
   "version": "3.8.5"
  }
 },
 "nbformat": 4,
 "nbformat_minor": 4
}
