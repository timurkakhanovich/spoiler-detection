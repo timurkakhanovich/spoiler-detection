{
 "cells": [
  {
   "cell_type": "code",
   "execution_count": 1,
   "id": "2376eefd-0f72-4c1f-ac49-3016fbcdffdc",
   "metadata": {},
   "outputs": [],
   "source": [
    "import pandas as pd\n",
    "import numpy as np"
   ]
  },
  {
   "cell_type": "code",
   "execution_count": 2,
   "id": "b453d5fb-b33a-4c71-8278-2ba8e7a9b8f2",
   "metadata": {},
   "outputs": [],
   "source": [
    "from sklearn.feature_extraction.text import TfidfVectorizer\n",
    "from sklearn.pipeline import Pipeline\n",
    "from sklearn.linear_model import SGDClassifier, LogisticRegression\n",
    "from sklearn.model_selection import cross_val_predict, StratifiedKFold, RandomizedSearchCV\n",
    "from sklearn.metrics import make_scorer, f1_score, precision_score, \\\n",
    "                            recall_score, classification_report\n",
    "from sklearn.compose import ColumnTransformer\n",
    "from sklearn.preprocessing import StandardScaler"
   ]
  },
  {
   "cell_type": "code",
   "execution_count": 3,
   "id": "99c1cf88-a446-4e48-a86d-ad29342bbb07",
   "metadata": {},
   "outputs": [],
   "source": [
    "import matplotlib.pyplot as plt\n",
    "%matplotlib inline"
   ]
  },
  {
   "cell_type": "code",
   "execution_count": 4,
   "id": "93567473-ef6d-4ad8-99b6-c906a7c489bb",
   "metadata": {},
   "outputs": [
    {
     "name": "stderr",
     "output_type": "stream",
     "text": [
      "[nltk_data] Downloading package punkt to\n",
      "[nltk_data]     /home/t_kakhanovich/nltk_data...\n",
      "[nltk_data]   Package punkt is already up-to-date!\n",
      "[nltk_data] Downloading package stopwords to\n",
      "[nltk_data]     /home/t_kakhanovich/nltk_data...\n",
      "[nltk_data]   Package stopwords is already up-to-date!\n",
      "[nltk_data] Downloading package wordnet to\n",
      "[nltk_data]     /home/t_kakhanovich/nltk_data...\n",
      "[nltk_data]   Package wordnet is already up-to-date!\n"
     ]
    },
    {
     "data": {
      "text/plain": [
       "True"
      ]
     },
     "execution_count": 4,
     "metadata": {},
     "output_type": "execute_result"
    }
   ],
   "source": [
    "import nltk\n",
    "nltk.download('punkt')\n",
    "nltk.download('stopwords')\n",
    "nltk.download('wordnet')"
   ]
  },
  {
   "cell_type": "code",
   "execution_count": 5,
   "id": "88aba5c8-3716-4a39-a417-a75f3685788c",
   "metadata": {},
   "outputs": [],
   "source": [
    "from nltk.corpus import stopwords"
   ]
  },
  {
   "cell_type": "code",
   "execution_count": 6,
   "id": "201a3e96-8e77-4a5b-aa9c-792ec4c553e6",
   "metadata": {},
   "outputs": [],
   "source": [
    "df = pd.read_csv('train_data.csv', lineterminator='\\n')"
   ]
  },
  {
   "cell_type": "code",
   "execution_count": 7,
   "id": "4639b845-6793-4cfd-9d61-f253d43b9404",
   "metadata": {},
   "outputs": [],
   "source": [
    "def del_spoiler_text(text):\n",
    "    return text.replace('<spoiler>', '').replace('<\\\\spoiler>', '').replace('  ', ' ')"
   ]
  },
  {
   "cell_type": "code",
   "execution_count": 8,
   "id": "16c65766-6f08-4979-aaaa-66d0567eeb2a",
   "metadata": {},
   "outputs": [],
   "source": [
    "def del_spoiler_lemma(text):\n",
    "    return text.replace('spoiler', '').replace('\\\\  ', '').replace('  ', ' ')"
   ]
  },
  {
   "cell_type": "code",
   "execution_count": 9,
   "id": "7102ffe7-e608-4c25-8e98-47de06ff503b",
   "metadata": {},
   "outputs": [],
   "source": [
    "df.loc[df['hasSpoiler'] == 1, 'text'] = \\\n",
    "    df.loc[df['hasSpoiler'] == 1, 'text'].apply(del_spoiler_text)\n",
    "\n",
    "df.loc[df['hasSpoiler'] == 1, 'lemmatized_text'] = \\\n",
    "    df.loc[df['hasSpoiler'] == 1, 'lemmatized_text'].apply(del_spoiler_lemma)"
   ]
  },
  {
   "cell_type": "code",
   "execution_count": 10,
   "id": "3406cef0-c2ff-4e8a-903f-5375ce806ff2",
   "metadata": {},
   "outputs": [
    {
     "data": {
      "text/plain": [
       "name               False\n",
       "author             False\n",
       "annotation          True\n",
       "text               False\n",
       "mark               False\n",
       "hasSpoiler         False\n",
       "lemmatized_text    False\n",
       "names_amount       False\n",
       "dtype: bool"
      ]
     },
     "execution_count": 10,
     "metadata": {},
     "output_type": "execute_result"
    }
   ],
   "source": [
    "df.isnull().any()"
   ]
  },
  {
   "cell_type": "code",
   "execution_count": 11,
   "id": "c78b86ee-59f0-4801-8b4f-9e6349094ff3",
   "metadata": {},
   "outputs": [],
   "source": [
    "df['annotation'].fillna('', inplace=True)"
   ]
  },
  {
   "cell_type": "code",
   "execution_count": 12,
   "id": "652e9baa-6b10-4b88-8437-782d48e0ea44",
   "metadata": {},
   "outputs": [],
   "source": [
    "true_class_weight = df['hasSpoiler'].mean()"
   ]
  },
  {
   "cell_type": "code",
   "execution_count": 13,
   "id": "276bc4b4-aa01-458d-87e2-42199b080f9b",
   "metadata": {},
   "outputs": [],
   "source": [
    "def custom_f1_score(y_true, y_pred):\n",
    "    thresholds = np.arange(0.5, 0.95, 0.05)\n",
    "\n",
    "    f1_result = np.array([f1_score(y_true, y_pred >= thres) for thres in thresholds])\n",
    "\n",
    "    return np.max(f1_result)"
   ]
  },
  {
   "cell_type": "code",
   "execution_count": 14,
   "id": "9c798228-9edd-440f-bdbb-51aaad4ae549",
   "metadata": {},
   "outputs": [],
   "source": [
    "thres_f1_score = make_scorer(custom_f1_score, greater_is_better=True)"
   ]
  },
  {
   "cell_type": "code",
   "execution_count": 15,
   "id": "b857b305-e0fb-43c5-be11-e0c0a34190fe",
   "metadata": {},
   "outputs": [],
   "source": [
    "def print_result(target, preds):\n",
    "    thresholds = np.arange(0.05, 0.95, 0.05)\n",
    "    f1_result = np.array([f1_score(target, preds >= thres) for thres in thresholds]) \n",
    "    \n",
    "    plt.figure(figsize=(10, 8))\n",
    "    plt.title('Threshold/F1-score results')\n",
    "    plt.xlabel('Threshold')\n",
    "    plt.ylabel('F1-score')\n",
    "    plt.plot(thresholds, f1_result)\n",
    "    plt.show()\n",
    "    \n",
    "    best_threshold = thresholds[np.argmax(f1_result)]\n",
    "    print(f'Best threshold for F1-score: {best_threshold}\\n' \n",
    "            f'F1-score: {np.max(f1_result)}')\n",
    "    print('\\n')\n",
    "    print(classification_report(target, preds >= best_threshold))"
   ]
  },
  {
   "cell_type": "code",
   "execution_count": 16,
   "id": "a54a3e90-d61d-4133-99ba-b98879de62c8",
   "metadata": {},
   "outputs": [],
   "source": [
    "X = df[['lemmatized_text', 'mark', 'names_amount']]\n",
    "y = df['hasSpoiler']"
   ]
  },
  {
   "cell_type": "code",
   "execution_count": 17,
   "id": "073837b3-0dbe-4703-9cb0-b1e20be97b00",
   "metadata": {},
   "outputs": [],
   "source": [
    "scaler = StandardScaler()\n",
    "X_transformed = scaler.fit_transform(X.loc[:, ['mark', 'names_amount']])"
   ]
  },
  {
   "cell_type": "code",
   "execution_count": 18,
   "id": "92d068d1-5606-485e-ac51-fc481205aeeb",
   "metadata": {},
   "outputs": [
    {
     "name": "stderr",
     "output_type": "stream",
     "text": [
      "/home/t_kakhanovich/miniconda3/envs/spoilers/lib/python3.9/site-packages/pandas/core/indexing.py:1676: SettingWithCopyWarning: \n",
      "A value is trying to be set on a copy of a slice from a DataFrame.\n",
      "Try using .loc[row_indexer,col_indexer] = value instead\n",
      "\n",
      "See the caveats in the documentation: https://pandas.pydata.org/pandas-docs/stable/user_guide/indexing.html#returning-a-view-versus-a-copy\n",
      "  self._setitem_single_column(ilocs[0], value, pi)\n"
     ]
    }
   ],
   "source": [
    "X.loc[:, 'mark'] = X_transformed[:, 0].copy()\n",
    "X.loc[:, 'names_amount'] = X_transformed[:, 1].copy()"
   ]
  },
  {
   "cell_type": "code",
   "execution_count": 19,
   "id": "cf424058-1c43-4fae-a647-68a2b1eb7e5a",
   "metadata": {},
   "outputs": [
    {
     "data": {
      "text/html": [
       "<div>\n",
       "<style scoped>\n",
       "    .dataframe tbody tr th:only-of-type {\n",
       "        vertical-align: middle;\n",
       "    }\n",
       "\n",
       "    .dataframe tbody tr th {\n",
       "        vertical-align: top;\n",
       "    }\n",
       "\n",
       "    .dataframe thead th {\n",
       "        text-align: right;\n",
       "    }\n",
       "</style>\n",
       "<table border=\"1\" class=\"dataframe\">\n",
       "  <thead>\n",
       "    <tr style=\"text-align: right;\">\n",
       "      <th></th>\n",
       "      <th>lemmatized_text</th>\n",
       "      <th>mark</th>\n",
       "      <th>names_amount</th>\n",
       "    </tr>\n",
       "  </thead>\n",
       "  <tbody>\n",
       "    <tr>\n",
       "      <th>0</th>\n",
       "      <td>а жаль мочь получиться вполне интересный и нег...</td>\n",
       "      <td>3.732077</td>\n",
       "      <td>0.538164</td>\n",
       "    </tr>\n",
       "    <tr>\n",
       "      <th>1</th>\n",
       "      <td>должный сказать что прочтение черновик я неско...</td>\n",
       "      <td>3.271765</td>\n",
       "      <td>0.538164</td>\n",
       "    </tr>\n",
       "    <tr>\n",
       "      <th>2</th>\n",
       "      <td>а внутро у она неонка с когда-то год этак деся...</td>\n",
       "      <td>2.197702</td>\n",
       "      <td>-0.312832</td>\n",
       "    </tr>\n",
       "    <tr>\n",
       "      <th>3</th>\n",
       "      <td>этот книга никак не дотягивать до хороший фант...</td>\n",
       "      <td>2.044265</td>\n",
       "      <td>-0.525581</td>\n",
       "    </tr>\n",
       "    <tr>\n",
       "      <th>4</th>\n",
       "      <td>вещь не вторичный а даже третичный если творче...</td>\n",
       "      <td>1.890827</td>\n",
       "      <td>-0.525581</td>\n",
       "    </tr>\n",
       "    <tr>\n",
       "      <th>...</th>\n",
       "      <td>...</td>\n",
       "      <td>...</td>\n",
       "      <td>...</td>\n",
       "    </tr>\n",
       "    <tr>\n",
       "      <th>84397</th>\n",
       "      <td>переосмысление сказка это всегда интересный го...</td>\n",
       "      <td>-0.257298</td>\n",
       "      <td>-0.525581</td>\n",
       "    </tr>\n",
       "    <tr>\n",
       "      <th>84398</th>\n",
       "      <td>занятный альтернативный взгляд на классический...</td>\n",
       "      <td>-0.717611</td>\n",
       "      <td>-0.100083</td>\n",
       "    </tr>\n",
       "    <tr>\n",
       "      <th>84399</th>\n",
       "      <td>самый характерный пример убитый наш книгоиздат...</td>\n",
       "      <td>-0.103861</td>\n",
       "      <td>-0.525581</td>\n",
       "    </tr>\n",
       "    <tr>\n",
       "      <th>84400</th>\n",
       "      <td>мой самый любимый произведение читать не отрыв...</td>\n",
       "      <td>-0.410736</td>\n",
       "      <td>-0.312832</td>\n",
       "    </tr>\n",
       "    <tr>\n",
       "      <th>84401</th>\n",
       "      <td>мой любимый трилогия читаться легко и интересн...</td>\n",
       "      <td>-0.871048</td>\n",
       "      <td>-0.525581</td>\n",
       "    </tr>\n",
       "  </tbody>\n",
       "</table>\n",
       "<p>84402 rows × 3 columns</p>\n",
       "</div>"
      ],
      "text/plain": [
       "                                         lemmatized_text      mark  \\\n",
       "0      а жаль мочь получиться вполне интересный и нег...  3.732077   \n",
       "1      должный сказать что прочтение черновик я неско...  3.271765   \n",
       "2      а внутро у она неонка с когда-то год этак деся...  2.197702   \n",
       "3      этот книга никак не дотягивать до хороший фант...  2.044265   \n",
       "4      вещь не вторичный а даже третичный если творче...  1.890827   \n",
       "...                                                  ...       ...   \n",
       "84397  переосмысление сказка это всегда интересный го... -0.257298   \n",
       "84398  занятный альтернативный взгляд на классический... -0.717611   \n",
       "84399  самый характерный пример убитый наш книгоиздат... -0.103861   \n",
       "84400  мой самый любимый произведение читать не отрыв... -0.410736   \n",
       "84401  мой любимый трилогия читаться легко и интересн... -0.871048   \n",
       "\n",
       "       names_amount  \n",
       "0          0.538164  \n",
       "1          0.538164  \n",
       "2         -0.312832  \n",
       "3         -0.525581  \n",
       "4         -0.525581  \n",
       "...             ...  \n",
       "84397     -0.525581  \n",
       "84398     -0.100083  \n",
       "84399     -0.525581  \n",
       "84400     -0.312832  \n",
       "84401     -0.525581  \n",
       "\n",
       "[84402 rows x 3 columns]"
      ]
     },
     "execution_count": 19,
     "metadata": {},
     "output_type": "execute_result"
    }
   ],
   "source": [
    "X"
   ]
  },
  {
   "cell_type": "markdown",
   "id": "6840c479-63aa-413d-a71d-bd1293e7ef60",
   "metadata": {},
   "source": [
    "# Tf-Idf + SGDClassifier model"
   ]
  },
  {
   "cell_type": "code",
   "execution_count": 24,
   "id": "6e7106d2-e1b7-4ac8-ae8f-a2287a660695",
   "metadata": {},
   "outputs": [],
   "source": [
    "vect = TfidfVectorizer(stop_words=stopwords.words('russian'))\n",
    "clf = SGDClassifier(penalty='elasticnet', loss='modified_huber', shuffle=True, n_jobs=-1, random_state=42, \n",
    "                    class_weight={0: true_class_weight, 1: 1-true_class_weight})"
   ]
  },
  {
   "cell_type": "code",
   "execution_count": 25,
   "id": "b24138db-f908-4a2e-bb35-5bb96163a782",
   "metadata": {},
   "outputs": [],
   "source": [
    "column_transformer = ColumnTransformer([\n",
    "    ('tf-idf', vect, 'lemmatized_text')\n",
    "], remainder='passthrough')"
   ]
  },
  {
   "cell_type": "code",
   "execution_count": 26,
   "id": "609f3521-10af-4bab-9254-e712cc6ddfde",
   "metadata": {},
   "outputs": [],
   "source": [
    "pipe = Pipeline([('preprocess', column_transformer), ('clf', clf)])"
   ]
  },
  {
   "cell_type": "code",
   "execution_count": 27,
   "id": "f2af3355-9ba3-4cb8-aee9-5355361f1fd3",
   "metadata": {},
   "outputs": [],
   "source": [
    "param_grid = {\n",
    "    'clf__alpha': [1e-5, 1e-6, 1e-7],\n",
    "    'clf__l1_ratio': [0.1, 0.3, 0.5],\n",
    "    'clf__average': [10, 20, 50]\n",
    "}"
   ]
  },
  {
   "cell_type": "code",
   "execution_count": 28,
   "id": "461ecb8e-1579-4593-9344-8c2c93a2e595",
   "metadata": {},
   "outputs": [],
   "source": [
    "estimator = RandomizedSearchCV(pipe, param_grid, scoring=thres_f1_score, n_jobs=-1, n_iter=20,\n",
    "                               cv=StratifiedKFold(5), random_state=42, verbose=1)"
   ]
  },
  {
   "cell_type": "code",
   "execution_count": 29,
   "id": "9bdaa559-62e5-4947-bee9-41061906134c",
   "metadata": {},
   "outputs": [
    {
     "name": "stdout",
     "output_type": "stream",
     "text": [
      "Fitting 5 folds for each of 20 candidates, totalling 100 fits\n"
     ]
    },
    {
     "data": {
      "text/plain": [
       "RandomizedSearchCV(cv=StratifiedKFold(n_splits=5, random_state=None, shuffle=False),\n",
       "                   estimator=Pipeline(steps=[('preprocess',\n",
       "                                              ColumnTransformer(remainder='passthrough',\n",
       "                                                                transformers=[('tf-idf',\n",
       "                                                                               TfidfVectorizer(stop_words=['и',\n",
       "                                                                                                           'в',\n",
       "                                                                                                           'во',\n",
       "                                                                                                           'не',\n",
       "                                                                                                           'что',\n",
       "                                                                                                           'он',\n",
       "                                                                                                           'на',\n",
       "                                                                                                           'я',\n",
       "                                                                                                           'с',\n",
       "                                                                                                           'со',\n",
       "                                                                                                           'как',\n",
       "                                                                                                           'а',\n",
       "                                                                                                           'то',\n",
       "                                                                                                           'все',\n",
       "                                                                                                           'она',\n",
       "                                                                                                           'так',\n",
       "                                                                                                           'его',\n",
       "                                                                                                           'но',\n",
       "                                                                                                           'да',\n",
       "                                                                                                           'ты',\n",
       "                                                                                                           'к',\n",
       "                                                                                                           'у',\n",
       "                                                                                                           'же',\n",
       "                                                                                                           'вы',\n",
       "                                                                                                           'за',\n",
       "                                                                                                           'бы',\n",
       "                                                                                                           'по',...\n",
       "                                                                               'lemmatized_text')])),\n",
       "                                             ('clf',\n",
       "                                              SGDClassifier(class_weight={0: 0.06406246297481102,\n",
       "                                                                          1: 0.935937537025189},\n",
       "                                                            loss='modified_huber',\n",
       "                                                            n_jobs=-1,\n",
       "                                                            penalty='elasticnet',\n",
       "                                                            random_state=42))]),\n",
       "                   n_iter=20, n_jobs=-1,\n",
       "                   param_distributions={'clf__alpha': [1e-05, 1e-06, 1e-07],\n",
       "                                        'clf__average': [10, 20, 50],\n",
       "                                        'clf__l1_ratio': [0.1, 0.3, 0.5]},\n",
       "                   random_state=42, scoring=make_scorer(custom_f1_score),\n",
       "                   verbose=1)"
      ]
     },
     "execution_count": 29,
     "metadata": {},
     "output_type": "execute_result"
    }
   ],
   "source": [
    "estimator.fit(X, y)"
   ]
  },
  {
   "cell_type": "code",
   "execution_count": 30,
   "id": "a8310c64-fb29-4718-9ae4-f0bc6b27b1e0",
   "metadata": {},
   "outputs": [
    {
     "data": {
      "text/plain": [
       "{'clf__l1_ratio': 0.3, 'clf__average': 20, 'clf__alpha': 1e-07}"
      ]
     },
     "execution_count": 30,
     "metadata": {},
     "output_type": "execute_result"
    }
   ],
   "source": [
    "estimator.best_params_"
   ]
  },
  {
   "cell_type": "code",
   "execution_count": 31,
   "id": "0cb84a60-7a26-4aad-9483-775bffd20cce",
   "metadata": {},
   "outputs": [
    {
     "data": {
      "text/plain": [
       "0.21660916706242572"
      ]
     },
     "execution_count": 31,
     "metadata": {},
     "output_type": "execute_result"
    }
   ],
   "source": [
    "estimator.best_score_"
   ]
  },
  {
   "cell_type": "code",
   "execution_count": 32,
   "id": "184d1556-ad41-4252-8587-b7fab943db7e",
   "metadata": {},
   "outputs": [],
   "source": [
    "clf = SGDClassifier(loss='modified_huber', penalty='elasticnet', shuffle=True, n_jobs=-1, \n",
    "                    random_state=42, l1_ratio=0.3, average=20, alpha=1e-7,\n",
    "                    class_weight={0: true_class_weight, 1: 1-true_class_weight})"
   ]
  },
  {
   "cell_type": "code",
   "execution_count": 33,
   "id": "378041fd-6420-4e16-a9f2-c8584bec8ca6",
   "metadata": {},
   "outputs": [],
   "source": [
    "pipe = Pipeline([('preprocess', column_transformer), ('clf', clf)])"
   ]
  },
  {
   "cell_type": "code",
   "execution_count": 37,
   "id": "887bea95-ddae-4dba-a2e9-b75c507e3e50",
   "metadata": {},
   "outputs": [],
   "source": [
    "y_pred = cross_val_predict(pipe, X, y, cv=StratifiedKFold(5))"
   ]
  },
  {
   "cell_type": "code",
   "execution_count": 38,
   "id": "6ead913d-8299-456b-a417-1ff55ef42f75",
   "metadata": {},
   "outputs": [
    {
     "data": {
      "text/plain": [
       "0.21492353484553012"
      ]
     },
     "execution_count": 38,
     "metadata": {},
     "output_type": "execute_result"
    }
   ],
   "source": [
    "f1_score(y, y_pred)"
   ]
  },
  {
   "cell_type": "markdown",
   "id": "fe82d09c-7640-4a6a-9be8-e99345088dd2",
   "metadata": {},
   "source": [
    "На лемматизированных токенах + признаках: (mark, names_amount) -- качество 0.21."
   ]
  },
  {
   "cell_type": "markdown",
   "id": "7cd7762f-4794-4c81-acbb-338e5889380a",
   "metadata": {},
   "source": [
    "# Tf-Idf + LogisticRegression model"
   ]
  },
  {
   "cell_type": "code",
   "execution_count": 20,
   "id": "27f7aa87-5541-40b1-bb46-83587b6dfb94",
   "metadata": {},
   "outputs": [],
   "source": [
    "vect = TfidfVectorizer(stop_words=stopwords.words('russian'))\n",
    "clf = LogisticRegression(penalty='l2', n_jobs=-1, random_state=42, \n",
    "                    class_weight={0: true_class_weight, 1: 1-true_class_weight})"
   ]
  },
  {
   "cell_type": "code",
   "execution_count": 21,
   "id": "a08f744c-8340-45bf-b752-5ecd257368bd",
   "metadata": {},
   "outputs": [],
   "source": [
    "column_transformer = ColumnTransformer([\n",
    "    ('tf-idf', vect, 'lemmatized_text')\n",
    "], remainder='passthrough')"
   ]
  },
  {
   "cell_type": "code",
   "execution_count": 22,
   "id": "8790cd92-891b-47e1-ae6c-89043886ace4",
   "metadata": {},
   "outputs": [],
   "source": [
    "l2_param_grid = {\n",
    "    'clf__C': [1., 5., 10., 50., 100.],\n",
    "    'clf__solver': ['newton-cg', 'lbfgs', 'liblinear', 'sag', 'saga']\n",
    "}"
   ]
  },
  {
   "cell_type": "code",
   "execution_count": 23,
   "id": "89d73823-60ee-4a61-ac54-8991790a27c3",
   "metadata": {},
   "outputs": [],
   "source": [
    "pipe = Pipeline([('preprocess', column_transformer), ('clf', clf)])"
   ]
  },
  {
   "cell_type": "code",
   "execution_count": 24,
   "id": "d864b836-a4ff-4e3f-9cbb-875223359d02",
   "metadata": {},
   "outputs": [],
   "source": [
    "estimator = RandomizedSearchCV(pipe, l2_param_grid, cv=StratifiedKFold(5), \n",
    "                               scoring=thres_f1_score, n_jobs=-1, n_iter=20,\n",
    "                               random_state=42, verbose=1)"
   ]
  },
  {
   "cell_type": "code",
   "execution_count": 25,
   "id": "3c5cc982-6b25-4d2b-a0c9-2e8cfa9d4fdf",
   "metadata": {},
   "outputs": [
    {
     "name": "stdout",
     "output_type": "stream",
     "text": [
      "Fitting 5 folds for each of 20 candidates, totalling 100 fits\n"
     ]
    },
    {
     "data": {
      "text/plain": [
       "RandomizedSearchCV(cv=StratifiedKFold(n_splits=5, random_state=None, shuffle=False),\n",
       "                   estimator=Pipeline(steps=[('preprocess',\n",
       "                                              ColumnTransformer(remainder='passthrough',\n",
       "                                                                transformers=[('tf-idf',\n",
       "                                                                               TfidfVectorizer(stop_words=['и',\n",
       "                                                                                                           'в',\n",
       "                                                                                                           'во',\n",
       "                                                                                                           'не',\n",
       "                                                                                                           'что',\n",
       "                                                                                                           'он',\n",
       "                                                                                                           'на',\n",
       "                                                                                                           'я',\n",
       "                                                                                                           'с',\n",
       "                                                                                                           'со',\n",
       "                                                                                                           'как',\n",
       "                                                                                                           'а',\n",
       "                                                                                                           'то',\n",
       "                                                                                                           'все',\n",
       "                                                                                                           'она',\n",
       "                                                                                                           'так',\n",
       "                                                                                                           'его',\n",
       "                                                                                                           'но',\n",
       "                                                                                                           'да',\n",
       "                                                                                                           'ты',\n",
       "                                                                                                           'к',\n",
       "                                                                                                           'у',\n",
       "                                                                                                           'же',\n",
       "                                                                                                           'вы',\n",
       "                                                                                                           'за',\n",
       "                                                                                                           'бы',\n",
       "                                                                                                           'по',...\n",
       "                                                                                                           'ее',\n",
       "                                                                                                           'мне', ...]),\n",
       "                                                                               'lemmatized_text')])),\n",
       "                                             ('clf',\n",
       "                                              LogisticRegression(class_weight={0: 0.06406246297481102,\n",
       "                                                                               1: 0.935937537025189},\n",
       "                                                                 n_jobs=-1,\n",
       "                                                                 random_state=42))]),\n",
       "                   n_iter=20, n_jobs=-1,\n",
       "                   param_distributions={'clf__C': [1.0, 5.0, 10.0, 50.0, 100.0],\n",
       "                                        'clf__solver': ['newton-cg', 'lbfgs',\n",
       "                                                        'liblinear', 'sag',\n",
       "                                                        'saga']},\n",
       "                   random_state=42, scoring=make_scorer(custom_f1_score),\n",
       "                   verbose=1)"
      ]
     },
     "execution_count": 25,
     "metadata": {},
     "output_type": "execute_result"
    }
   ],
   "source": [
    "estimator.fit(X, y)"
   ]
  },
  {
   "cell_type": "code",
   "execution_count": 26,
   "id": "eb314149-56fe-4689-b98f-c2669e3f8cdd",
   "metadata": {},
   "outputs": [
    {
     "data": {
      "text/plain": [
       "{'clf__solver': 'newton-cg', 'clf__C': 5.0}"
      ]
     },
     "execution_count": 26,
     "metadata": {},
     "output_type": "execute_result"
    }
   ],
   "source": [
    "estimator.best_params_"
   ]
  },
  {
   "cell_type": "code",
   "execution_count": 27,
   "id": "7b8af025-3fa5-4220-9b17-0a9944cd8042",
   "metadata": {},
   "outputs": [
    {
     "data": {
      "text/plain": [
       "0.23662389536454423"
      ]
     },
     "execution_count": 27,
     "metadata": {},
     "output_type": "execute_result"
    }
   ],
   "source": [
    "estimator.best_score_"
   ]
  },
  {
   "cell_type": "code",
   "execution_count": 28,
   "id": "eb6f9a38-8614-4144-a5ac-edd53049f007",
   "metadata": {},
   "outputs": [],
   "source": [
    "clf = LogisticRegression(penalty='l2', C=5, solver='newton-cg', n_jobs=-1, random_state=42, \n",
    "                        class_weight={0: true_class_weight, 1: 1-true_class_weight})"
   ]
  },
  {
   "cell_type": "code",
   "execution_count": 29,
   "id": "01d696cc-2f80-43d3-b840-a1283e3fa942",
   "metadata": {},
   "outputs": [],
   "source": [
    "pipe = Pipeline([('preprocess', column_transformer), ('clf', clf)])"
   ]
  },
  {
   "cell_type": "code",
   "execution_count": 30,
   "id": "6b466166-c567-4a35-92a0-0f74f7b8a08c",
   "metadata": {},
   "outputs": [],
   "source": [
    "y_pred = cross_val_predict(pipe, X, y, cv=StratifiedKFold(5), method='predict_proba')"
   ]
  },
  {
   "cell_type": "code",
   "execution_count": 33,
   "id": "47088f0d-bc60-4ab9-bf14-b16827d60fc8",
   "metadata": {},
   "outputs": [
    {
     "data": {
      "image/png": "[encoded data removed]",
      "text/plain": [
       "<Figure size 720x576 with 1 Axes>"
      ]
     },
     "metadata": {
      "needs_background": "light"
     },
     "output_type": "display_data"
    },
    {
     "name": "stdout",
     "output_type": "stream",
     "text": [
      "Best threshold for F1-score: 0.55\n",
      "F1-score: 0.23961787018825517\n",
      "\n",
      "\n",
      "              precision    recall  f1-score   support\n",
      "\n",
      "           0       0.95      0.87      0.91     78995\n",
      "           1       0.17      0.39      0.24      5407\n",
      "\n",
      "    accuracy                           0.84     84402\n",
      "   macro avg       0.56      0.63      0.58     84402\n",
      "weighted avg       0.90      0.84      0.87     84402\n",
      "\n"
     ]
    }
   ],
   "source": [
    "print_result(y, y_pred[:, 1])"
   ]
  },
  {
   "cell_type": "markdown",
   "id": "9c7cf3ae-8722-473d-a4b6-8e320e30d06e",
   "metadata": {},
   "source": [
    "# w2v + Logistic Regression"
   ]
  },
  {
   "cell_type": "code",
   "execution_count": 22,
   "id": "1d7c8d33-ae2b-4ca4-8fbb-cc56b0b7e61d",
   "metadata": {},
   "outputs": [],
   "source": [
    "from navec import Navec"
   ]
  },
  {
   "cell_type": "code",
   "execution_count": 23,
   "id": "0acc2acb-01d2-4108-b5fe-6ad5ba031c4f",
   "metadata": {},
   "outputs": [],
   "source": [
    "path = 'navec_hudlit_v1_12B_500K_300d_100q.tar'\n",
    "navec = Navec.load(path)"
   ]
  },
  {
   "cell_type": "code",
   "execution_count": 24,
   "id": "813e43cd-24bf-44e6-82f8-a137eebedd40",
   "metadata": {},
   "outputs": [],
   "source": [
    "def get_w2v_vect(token):\n",
    "    if token in navec:\n",
    "        return navec[token]\n",
    "    else:\n",
    "        return np.zeros(300)"
   ]
  },
  {
   "cell_type": "code",
   "execution_count": 25,
   "id": "afb38655-3d9f-4abb-9b9c-afcf8255d929",
   "metadata": {
    "tags": []
   },
   "outputs": [],
   "source": [
    "def get_features_from_text(tokenized_text):\n",
    "    vect = np.array([get_w2v_vect(token) \n",
    "                    for token in tokenized_text]).mean(axis=0)\n",
    "    \n",
    "    vect_norm = np.linalg.norm(vect)\n",
    "    \n",
    "    if vect_norm < 1e-7:\n",
    "        return vect\n",
    "    else:\n",
    "        return vect/vect_norm"
   ]
  },
  {
   "cell_type": "markdown",
   "id": "b35fa86f-2858-485b-99ac-7199a8f2c5c1",
   "metadata": {},
   "source": [
    "### Making w2v embeddings and saving it to the file"
   ]
  },
  {
   "cell_type": "code",
   "execution_count": 38,
   "id": "f5d446a3-31d4-463f-9766-b821c3e376c3",
   "metadata": {
    "tags": []
   },
   "outputs": [],
   "source": [
    "w2v_data = np.array([get_features_from_text(tokenized_text)\n",
    "                    for tokenized_text in X['lemmatized_text']])"
   ]
  },
  {
   "cell_type": "code",
   "execution_count": 42,
   "id": "dee2d6f1-e150-4f57-af0e-9ba6ff4e4443",
   "metadata": {
    "tags": []
   },
   "outputs": [],
   "source": [
    "with open('w2v_embeddings.npy', 'wb') as fin:\n",
    "    np.save(fin, w2v_data)"
   ]
  },
  {
   "cell_type": "code",
   "execution_count": 26,
   "id": "3af46ada-4f7f-44f2-b10d-309af825cecc",
   "metadata": {},
   "outputs": [],
   "source": [
    "with open('w2v_embeddings.npy', 'rb') as fout:\n",
    "    w2v_data = np.load(fout)"
   ]
  },
  {
   "cell_type": "code",
   "execution_count": 27,
   "id": "fcd99249-d0c0-409e-9b84-85368a2810a8",
   "metadata": {},
   "outputs": [],
   "source": [
    "additional_data = X[['mark', 'names_amount']].to_numpy()"
   ]
  },
  {
   "cell_type": "code",
   "execution_count": 28,
   "id": "ecda8810-520e-4610-86c1-3551f677d3ca",
   "metadata": {},
   "outputs": [],
   "source": [
    "w2v_data = np.hstack((w2v_data, additional_data))"
   ]
  },
  {
   "cell_type": "markdown",
   "id": "2c773cad-1072-4929-a938-1c4e6d10b5bc",
   "metadata": {},
   "source": [
    "## With l2-penalty"
   ]
  },
  {
   "cell_type": "code",
   "execution_count": 70,
   "id": "d596d9f3-d0eb-42fe-843e-75ed53e5ffca",
   "metadata": {},
   "outputs": [],
   "source": [
    "clf = LogisticRegression(penalty='l2', n_jobs=-1, random_state=42, \n",
    "                    class_weight={0: true_class_weight, 1: 1-true_class_weight})\n",
    "\n",
    "l2_param_grid = {\n",
    "    'C': [1., 5., 10., 50., 100.],\n",
    "    'solver': ['newton-cg', 'lbfgs', 'liblinear', 'sag', 'saga']\n",
    "}"
   ]
  },
  {
   "cell_type": "code",
   "execution_count": 71,
   "id": "a06160c5-3d54-47c5-a8a3-ba82f1ac7dc5",
   "metadata": {},
   "outputs": [],
   "source": [
    "estimator = RandomizedSearchCV(clf, l2_param_grid, cv=StratifiedKFold(5), \n",
    "                               scoring=thres_f1_score, n_jobs=-1, n_iter=20,\n",
    "                               random_state=42, verbose=1)"
   ]
  },
  {
   "cell_type": "code",
   "execution_count": 72,
   "id": "df7f493f-67a9-4a9f-acad-7cb7130f104c",
   "metadata": {},
   "outputs": [
    {
     "name": "stdout",
     "output_type": "stream",
     "text": [
      "Fitting 5 folds for each of 20 candidates, totalling 100 fits\n"
     ]
    },
    {
     "data": {
      "text/plain": [
       "RandomizedSearchCV(cv=StratifiedKFold(n_splits=5, random_state=None, shuffle=False),\n",
       "                   estimator=LogisticRegression(class_weight={0: 0.06406246297481102,\n",
       "                                                              1: 0.935937537025189},\n",
       "                                                n_jobs=-1, random_state=42),\n",
       "                   n_iter=20, n_jobs=-1,\n",
       "                   param_distributions={'C': [1.0, 5.0, 10.0, 50.0, 100.0],\n",
       "                                        'solver': ['newton-cg', 'lbfgs',\n",
       "                                                   'liblinear', 'sag',\n",
       "                                                   'saga']},\n",
       "                   random_state=42, scoring=make_scorer(custom_f1_score),\n",
       "                   verbose=1)"
      ]
     },
     "execution_count": 72,
     "metadata": {},
     "output_type": "execute_result"
    }
   ],
   "source": [
    "estimator.fit(w2v_data, y)"
   ]
  },
  {
   "cell_type": "code",
   "execution_count": 73,
   "id": "5cdeb50b-ced0-4d1f-bf7c-110e4bae575d",
   "metadata": {},
   "outputs": [
    {
     "data": {
      "text/plain": [
       "{'solver': 'lbfgs', 'C': 1.0}"
      ]
     },
     "execution_count": 73,
     "metadata": {},
     "output_type": "execute_result"
    }
   ],
   "source": [
    "estimator.best_params_"
   ]
  },
  {
   "cell_type": "code",
   "execution_count": 74,
   "id": "dc5ef63f-7826-45bb-8b23-944df062f938",
   "metadata": {},
   "outputs": [
    {
     "data": {
      "text/plain": [
       "0.17345983652441221"
      ]
     },
     "execution_count": 74,
     "metadata": {},
     "output_type": "execute_result"
    }
   ],
   "source": [
    "estimator.best_score_"
   ]
  },
  {
   "cell_type": "code",
   "execution_count": 75,
   "id": "011fd7b1-8012-4026-89d2-3cd5bf6a8099",
   "metadata": {},
   "outputs": [],
   "source": [
    "clf = LogisticRegression(solver='lbfgs', C=1.0, penalty='l2', n_jobs=-1, random_state=42, \n",
    "                    class_weight={0: true_class_weight, 1: 1-true_class_weight})"
   ]
  },
  {
   "cell_type": "code",
   "execution_count": 76,
   "id": "633208e2-531f-40d1-afba-5f43f684fbe3",
   "metadata": {},
   "outputs": [],
   "source": [
    "y_pred = cross_val_predict(clf, w2v_data, y, cv=StratifiedKFold(5), method='predict_proba')"
   ]
  },
  {
   "cell_type": "code",
   "execution_count": 79,
   "id": "a8ae3ac4-555e-4d03-bb46-355fbc4ec894",
   "metadata": {},
   "outputs": [
    {
     "data": {
      "image/png": "[encoded data removed]",
      "text/plain": [
       "<Figure size 720x576 with 1 Axes>"
      ]
     },
     "metadata": {
      "needs_background": "light"
     },
     "output_type": "display_data"
    },
    {
     "name": "stdout",
     "output_type": "stream",
     "text": [
      "Best threshold for F1-score: 0.5\n",
      "F1-score: 0.1727127696469446\n",
      "\n",
      "\n",
      "              precision    recall  f1-score   support\n",
      "\n",
      "           0       0.95      0.73      0.83     78995\n",
      "           1       0.11      0.46      0.17      5407\n",
      "\n",
      "    accuracy                           0.72     84402\n",
      "   macro avg       0.53      0.60      0.50     84402\n",
      "weighted avg       0.90      0.72      0.79     84402\n",
      "\n"
     ]
    }
   ],
   "source": [
    "print_result(y, y_pred[:, 1])"
   ]
  },
  {
   "cell_type": "markdown",
   "id": "3bc0d3eb-89d0-4078-85c7-a22b71eb07db",
   "metadata": {},
   "source": [
    "## With l1/elasticnet-petalty"
   ]
  },
  {
   "cell_type": "code",
   "execution_count": 20,
   "id": "f079fa74-31dd-4605-b889-1caa14bb03f6",
   "metadata": {
    "tags": []
   },
   "outputs": [],
   "source": [
    "clf = LogisticRegression(n_jobs=-1, random_state=42, \n",
    "                    class_weight={0: true_class_weight, 1: 1-true_class_weight})"
   ]
  },
  {
   "cell_type": "code",
   "execution_count": 83,
   "id": "dfb47df3-0e34-46d5-a92a-4d4d2f6c399b",
   "metadata": {
    "tags": []
   },
   "outputs": [],
   "source": [
    "el_param_grid = {\n",
    "    'penalty': ['l1', 'elasticnet'],\n",
    "    'l1_ratio': [0.1, 0.3, 0.5, 0.7],\n",
    "    'C': [1., 5., 10., 50., 100.],\n",
    "    'solver': ['liblinear', 'saga']\n",
    "}"
   ]
  },
  {
   "cell_type": "code",
   "execution_count": 29,
   "id": "d360c612-3426-40a8-bb96-1187f5d04237",
   "metadata": {},
   "outputs": [],
   "source": [
    "clf = LogisticRegression(penalty='elasticnet', l1_ratio=0.3, C=5.0, solver='saga',\n",
    "                         n_jobs=-1, random_state=42, \n",
    "                        class_weight={0: true_class_weight, 1: 1-true_class_weight})"
   ]
  },
  {
   "cell_type": "code",
   "execution_count": 30,
   "id": "07d0f899-0af9-4ee9-b3e0-dfcde443db80",
   "metadata": {},
   "outputs": [],
   "source": [
    "y_pred = cross_val_predict(clf, w2v_data, y, cv=StratifiedKFold(5), method='predict_proba')"
   ]
  },
  {
   "cell_type": "code",
   "execution_count": 32,
   "id": "580b8fa9-682d-4de2-845f-abd5894f7268",
   "metadata": {},
   "outputs": [
    {
     "data": {
      "image/png": "[encoded data removed]",
      "text/plain": [
       "<Figure size 720x576 with 1 Axes>"
      ]
     },
     "metadata": {
      "needs_background": "light"
     },
     "output_type": "display_data"
    },
    {
     "name": "stdout",
     "output_type": "stream",
     "text": [
      "Best threshold for F1-score: 0.5\n",
      "F1-score: 0.1707422324510932\n",
      "\n",
      "\n",
      "              precision    recall  f1-score   support\n",
      "\n",
      "           0       0.95      0.75      0.84     78995\n",
      "           1       0.11      0.44      0.17      5407\n",
      "\n",
      "    accuracy                           0.73     84402\n",
      "   macro avg       0.53      0.59      0.50     84402\n",
      "weighted avg       0.90      0.73      0.79     84402\n",
      "\n"
     ]
    }
   ],
   "source": [
    "print_result(y, y_pred[:, 1])"
   ]
  },
  {
   "cell_type": "code",
   "execution_count": null,
   "id": "4bc6b13c-030e-44d1-9e3a-c66f56d72998",
   "metadata": {},
   "outputs": [],
   "source": []
  }
 ],
 "metadata": {
  "kernelspec": {
   "display_name": "Python 3",
   "language": "python",
   "name": "python3"
  },
  "language_info": {
   "codemirror_mode": {
    "name": "ipython",
    "version": 3
   },
   "file_extension": ".py",
   "mimetype": "text/x-python",
   "name": "python",
   "nbconvert_exporter": "python",
   "pygments_lexer": "ipython3",
   "version": "3.9.5"
  }
 },
 "nbformat": 4,
 "nbformat_minor": 5
}
